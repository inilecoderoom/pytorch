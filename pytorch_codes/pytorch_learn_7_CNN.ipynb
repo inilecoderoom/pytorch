{
 "cells": [
  {
   "cell_type": "markdown",
   "metadata": {},
   "source": [
    "# Convoltioin Neural Network"
   ]
  },
  {
   "cell_type": "code",
   "execution_count": 1,
   "metadata": {},
   "outputs": [],
   "source": [
    "# importing necessary libraries\n",
    "import numpy as np\n",
    "\n",
    "import torch as tr\n",
    "import torch.nn as nn\n",
    "import torch.nn.functional as F\n",
    "import torchvision\n",
    "import torchvision.transforms as transforms\n",
    "\n",
    "import matplotlib.pyplot as plt"
   ]
  },
  {
   "cell_type": "code",
   "execution_count": 2,
   "metadata": {},
   "outputs": [],
   "source": [
    "# device configuration\n",
    "device = tr.device('cuda' if tr.cuda.is_available() else 'cpu')"
   ]
  },
  {
   "cell_type": "code",
   "execution_count": 3,
   "metadata": {},
   "outputs": [],
   "source": [
    "# hyper parameters\n",
    "# input_size = 784 #28X28\n",
    "# hidden_size = 100\n",
    "num_classes = 10\n",
    "\n",
    "num_epochs = 4\n",
    "batch_size = 4\n",
    "learning_rate = 0.001"
   ]
  },
  {
   "cell_type": "code",
   "execution_count": 4,
   "metadata": {},
   "outputs": [],
   "source": [
    "# datset has PILImage images of range [0,1]\n",
    "# we transform those images to Tensors of normalized range [-1,1]\n",
    "transfrom = transforms.Compose(\n",
    "    [transforms.ToTensor(),\n",
    "    transforms.Normalize((0.5,0.5,0.5),(0.5,0.5,0.5))]\n",
    ")"
   ]
  },
  {
   "cell_type": "code",
   "execution_count": 5,
   "metadata": {},
   "outputs": [
    {
     "name": "stdout",
     "output_type": "stream",
     "text": [
      "Downloading https://www.cs.toronto.edu/~kriz/cifar-10-python.tar.gz to ./data_CIFAR/cifar-10-python.tar.gz\n"
     ]
    },
    {
     "data": {
      "application/vnd.jupyter.widget-view+json": {
       "model_id": "f4b1742011874338af2c3c6b1ab55578",
       "version_major": 2,
       "version_minor": 0
      },
      "text/plain": [
       "  0%|          | 0/170498071 [00:00<?, ?it/s]"
      ]
     },
     "metadata": {},
     "output_type": "display_data"
    },
    {
     "name": "stdout",
     "output_type": "stream",
     "text": [
      "Extracting ./data_CIFAR/cifar-10-python.tar.gz to ./data_CIFAR\n",
      "Files already downloaded and verified\n"
     ]
    }
   ],
   "source": [
    "# MNIST\n",
    "train_dataset = torchvision.datasets.CIFAR10(root = './data_CIFAR',\n",
    "    train = True, transform= transfrom, download= True)\n",
    "\n",
    "test_dataset = torchvision.datasets.CIFAR10(root = './data_CIFAR',\n",
    "    train= False, transform= transfrom, download= True)\n"
   ]
  },
  {
   "cell_type": "code",
   "execution_count": 6,
   "metadata": {},
   "outputs": [],
   "source": [
    "train_loader = tr.utils.data.DataLoader(dataset = train_dataset, batch_size = batch_size, shuffle = True)\n",
    "test_loader = tr.utils.data.DataLoader(dataset = test_dataset, batch_size = batch_size, shuffle = False)"
   ]
  },
  {
   "cell_type": "code",
   "execution_count": 7,
   "metadata": {},
   "outputs": [],
   "source": [
    "classses = ['plane','car','bird','cat','deer','dog','frog','horse','ship','truck']"
   ]
  },
  {
   "cell_type": "code",
   "execution_count": 10,
   "metadata": {},
   "outputs": [
    {
     "name": "stdout",
     "output_type": "stream",
     "text": [
      "torch.Size([4, 3, 32, 32])\n",
      "torch.Size([4, 6, 28, 28])\n",
      "torch.Size([4, 6, 14, 14])\n",
      "torch.Size([4, 16, 10, 10])\n",
      "torch.Size([4, 16, 5, 5])\n"
     ]
    }
   ],
   "source": [
    "# CNN layer output shape calculation\n",
    "def imshow(img):\n",
    "    img = img/2 + 0.5\n",
    "    npimg = img.numpy()\n",
    "    # plt.imshow(np.transpose(npimg, (1,2,0)))\n",
    "    # plt.show()\n",
    "\n",
    "dataiter = iter(train_loader)\n",
    "images, labels = next(dataiter)\n",
    "\n",
    "imshow(torchvision.utils.make_grid(images))\n",
    "\n",
    "conv1 = nn.Conv2d(3,6,5)\n",
    "pool = nn.MaxPool2d(2,2)\n",
    "conv2 = nn.Conv2d(6,16,5)\n",
    "print(images.shape)\n",
    "\n",
    "x = conv1(images)\n",
    "print(x.shape)\n",
    "x = pool(x)\n",
    "print(x.shape)\n",
    "x = conv2(x)\n",
    "print(x.shape)\n",
    "x = pool(x)\n",
    "print(x.shape)\n"
   ]
  },
  {
   "cell_type": "code",
   "execution_count": 11,
   "metadata": {},
   "outputs": [],
   "source": [
    "# Implementation of ConvNet using pytorch\n",
    "class ConvNet(nn.Module):\n",
    "    def __init__(self):\n",
    "        super(ConvNet, self).__init__()\n",
    "        self.conv1 = nn.Conv2d(3,6,5)\n",
    "        self.pool = nn.MaxPool2d(2,2)\n",
    "        self.conv2 = nn.Conv2d(6,16,5)\n",
    "        self.fc1 = nn.Linear(16*5*5, 120)\n",
    "        self.fc2 = nn.Linear(120, 84)\n",
    "        self.fc3 = nn.Linear(84, num_classes)\n",
    "\n",
    "    def forward(self, x):\n",
    "        x = self.pool(F.relu(self.conv1(x)))\n",
    "        x = self.pool(F.relu(self.conv2(x)))\n",
    "        x = x.view(-1, 16*5*5)\n",
    "        x = F.relu(self.fc1(x))\n",
    "        x = F.relu(self.fc2(x))\n",
    "        x = self.fc3(x)\n",
    "        return x\n",
    "\n",
    "\n",
    "\n",
    "conv_model = ConvNet().to(device)\n",
    "\n",
    "criteria = nn.CrossEntropyLoss()\n",
    "optimizer = tr.optim.SGD(conv_model.parameters(), lr= learning_rate)\n",
    "\n"
   ]
  },
  {
   "cell_type": "code",
   "execution_count": 13,
   "metadata": {},
   "outputs": [
    {
     "name": "stdout",
     "output_type": "stream",
     "text": [
      "Epoch 1 / 4, Step [2000/12500], Loss  =  2.3204\n",
      "Epoch 1 / 4, Step [4000/12500], Loss  =  2.3160\n",
      "Epoch 1 / 4, Step [6000/12500], Loss  =  2.2946\n",
      "Epoch 1 / 4, Step [8000/12500], Loss  =  2.2763\n",
      "Epoch 1 / 4, Step [10000/12500], Loss  =  2.1781\n",
      "Epoch 1 / 4, Step [12000/12500], Loss  =  2.1148\n",
      "Epoch 2 / 4, Step [2000/12500], Loss  =  2.1171\n",
      "Epoch 2 / 4, Step [4000/12500], Loss  =  1.8656\n",
      "Epoch 2 / 4, Step [6000/12500], Loss  =  2.4000\n",
      "Epoch 2 / 4, Step [8000/12500], Loss  =  1.2929\n",
      "Epoch 2 / 4, Step [10000/12500], Loss  =  1.4138\n",
      "Epoch 2 / 4, Step [12000/12500], Loss  =  1.7204\n",
      "Epoch 3 / 4, Step [2000/12500], Loss  =  1.5130\n",
      "Epoch 3 / 4, Step [4000/12500], Loss  =  1.2996\n",
      "Epoch 3 / 4, Step [6000/12500], Loss  =  2.1206\n",
      "Epoch 3 / 4, Step [8000/12500], Loss  =  1.8350\n",
      "Epoch 3 / 4, Step [10000/12500], Loss  =  0.9485\n",
      "Epoch 3 / 4, Step [12000/12500], Loss  =  1.3501\n",
      "Epoch 4 / 4, Step [2000/12500], Loss  =  1.3403\n",
      "Epoch 4 / 4, Step [4000/12500], Loss  =  1.2171\n",
      "Epoch 4 / 4, Step [6000/12500], Loss  =  1.0308\n",
      "Epoch 4 / 4, Step [8000/12500], Loss  =  1.4755\n",
      "Epoch 4 / 4, Step [10000/12500], Loss  =  1.6147\n",
      "Epoch 4 / 4, Step [12000/12500], Loss  =  1.4148\n",
      "Finished training\n",
      "Accuracy of the network = 45.3% \n",
      "Accuracy of plane: 57.7% \n",
      "Accuracy of car: 47.0% \n",
      "Accuracy of bird: 27.1% \n",
      "Accuracy of cat: 33.9% \n",
      "Accuracy of deer: 39.6% \n",
      "Accuracy of dog: 28.4% \n",
      "Accuracy of frog: 66.9% \n",
      "Accuracy of horse: 44.0% \n",
      "Accuracy of ship: 64.8% \n",
      "Accuracy of truck: 43.6% \n"
     ]
    }
   ],
   "source": [
    "n_total_steps = len(train_loader)\n",
    "\n",
    "for epoch in range(num_epochs):\n",
    "    for i, (images, labels) in enumerate(train_loader):\n",
    "        # 100,1,28,28 --> 100, 784\n",
    "        images = images.to(device)\n",
    "        labels = labels.to(device)\n",
    "\n",
    "        # forward\n",
    "        outputs = conv_model(images)\n",
    "        loss = criteria(outputs, labels)\n",
    "\n",
    "        # backwards\n",
    "        optimizer.zero_grad()\n",
    "        loss.backward()\n",
    "        optimizer.step()\n",
    "        \n",
    "        if (i+1) % 2000 == 0 :\n",
    "            print(f'Epoch {epoch+1} / {num_epochs}, Step [{i+1}/{n_total_steps}], Loss  = {loss.item(): .4f}')\n",
    "\n",
    "print('Finished training')\n",
    "\n",
    "# test \n",
    "with tr.no_grad():\n",
    "    no_correct = 0\n",
    "    n_samples = 0\n",
    "    n_classes_correct = [0 for i in range(10)]\n",
    "    n_classes_samples = [0 for i in range(10)]\n",
    "\n",
    "    for images, labels in test_loader:\n",
    "        images = images.to(device)\n",
    "        labels = labels.to(device)\n",
    "        outputs = conv_model(images)\n",
    "\n",
    "        #value, index\n",
    "        _,predictions = tr.max(outputs, 1)\n",
    "        n_samples += labels.size(0)\n",
    "        no_correct += (predictions == labels).sum().item()\n",
    "\n",
    "        for i in range(batch_size):\n",
    "            label = labels[i]\n",
    "            pred = predictions[i]\n",
    "            if label == pred :\n",
    "                n_classes_correct[label] += 1\n",
    "            n_classes_samples[label] += 1\n",
    "\n",
    "    \n",
    "    accuracy = 100.0 * no_correct/n_samples\n",
    "    print(f'Accuracy of the network = {accuracy}% ')\n",
    "\n",
    "    for i in range(10):\n",
    "        acc = 100.0 * n_classes_correct[i]/ n_classes_samples[i]\n",
    "        print(f'Accuracy of {classses[i]}: {acc}% ')"
   ]
  },
  {
   "cell_type": "code",
   "execution_count": null,
   "metadata": {},
   "outputs": [],
   "source": []
  }
 ],
 "metadata": {
  "kernelspec": {
   "display_name": "Python 3.9.12 ('iNile')",
   "language": "python",
   "name": "python3"
  },
  "language_info": {
   "codemirror_mode": {
    "name": "ipython",
    "version": 3
   },
   "file_extension": ".py",
   "mimetype": "text/x-python",
   "name": "python",
   "nbconvert_exporter": "python",
   "pygments_lexer": "ipython3",
   "version": "3.9.12"
  },
  "orig_nbformat": 4,
  "vscode": {
   "interpreter": {
    "hash": "35c5b4e930fdcb47ac81caa69f444b3cabeb1c3585cb7f94cf2c3a5cee17fbe3"
   }
  }
 },
 "nbformat": 4,
 "nbformat_minor": 2
}
