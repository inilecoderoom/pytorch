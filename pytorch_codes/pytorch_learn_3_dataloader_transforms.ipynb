{
 "cells": [
  {
   "cell_type": "markdown",
   "metadata": {},
   "source": [
    "# DataSet and DataLoader"
   ]
  },
  {
   "cell_type": "code",
   "execution_count": 4,
   "metadata": {},
   "outputs": [],
   "source": [
    "import numpy as np\n",
    "import pandas as pd\n",
    "\n",
    "import torch as tr\n",
    "import torch.nn as nn\n",
    "import torchvision\n",
    "from torch.utils.data import Dataset, DataLoader\n",
    "\n",
    "import matplotlib.pyplot as plt\n",
    "\n",
    "from sklearn import datasets\n",
    "from sklearn.preprocessing import StandardScaler\n",
    "from sklearn.model_selection import train_test_split\n",
    "\n",
    "import math\n"
   ]
  },
  {
   "cell_type": "code",
   "execution_count": 16,
   "metadata": {},
   "outputs": [
    {
     "name": "stdout",
     "output_type": "stream",
     "text": [
      "178 45\n",
      "epoch 1/2: step 5/45, inputs torch.Size([4, 13])\n",
      "epoch 1/2: step 10/45, inputs torch.Size([4, 13])\n",
      "epoch 1/2: step 15/45, inputs torch.Size([4, 13])\n",
      "epoch 1/2: step 20/45, inputs torch.Size([4, 13])\n",
      "epoch 1/2: step 25/45, inputs torch.Size([4, 13])\n",
      "epoch 1/2: step 30/45, inputs torch.Size([4, 13])\n",
      "epoch 1/2: step 35/45, inputs torch.Size([4, 13])\n",
      "epoch 1/2: step 40/45, inputs torch.Size([4, 13])\n",
      "epoch 1/2: step 45/45, inputs torch.Size([2, 13])\n",
      "epoch 2/2: step 5/45, inputs torch.Size([4, 13])\n",
      "epoch 2/2: step 10/45, inputs torch.Size([4, 13])\n",
      "epoch 2/2: step 15/45, inputs torch.Size([4, 13])\n",
      "epoch 2/2: step 20/45, inputs torch.Size([4, 13])\n",
      "epoch 2/2: step 25/45, inputs torch.Size([4, 13])\n",
      "epoch 2/2: step 30/45, inputs torch.Size([4, 13])\n",
      "epoch 2/2: step 35/45, inputs torch.Size([4, 13])\n",
      "epoch 2/2: step 40/45, inputs torch.Size([4, 13])\n",
      "epoch 2/2: step 45/45, inputs torch.Size([2, 13])\n"
     ]
    }
   ],
   "source": [
    "# wine_data = \"../dataset_pytorch/wine.csv\"\n",
    "# df = pd.read_csv(wine_data)\n",
    "# df.head()\n",
    "\n",
    "class WineDataset(Dataset):\n",
    "    def __init__(self):\n",
    "        #data loading\n",
    "        xy = np.loadtxt(\"../dataset_pytorch/wine.csv\", delimiter = \",\", dtype = np.float32, skiprows = 1)\n",
    "        self.x = tr.from_numpy(xy[:, 1:])\n",
    "        self.y = tr.from_numpy(xy[:, [0]])\n",
    "        self.n_samples = xy.shape[0]\n",
    "\n",
    "\n",
    "    def __getitem__(self, index):\n",
    "        #dataset[0]\n",
    "        return self.x[index], self.y[index]\n",
    "\n",
    "\n",
    "    def __len__(self):\n",
    "        return self.n_samples\n",
    "\n",
    "dataset = WineDataset()\n",
    "data_loader = DataLoader(\n",
    "                        dataset = dataset, \n",
    "                        batch_size = 4, \n",
    "                        shuffle = True,\n",
    "                        # num_workers = 2\n",
    "                        )\n",
    "\n",
    "# data_iter = iter(data_loader)\n",
    "# features, labels = next(data_iter)\n",
    "# print(features, labels)\n",
    "\n",
    "num_epoch = 2\n",
    "total_samples = len(dataset)\n",
    "n_iterations = math.ceil(total_samples/4)\n",
    "print(total_samples, n_iterations)\n",
    "\n",
    "for epoch in range(num_epoch):\n",
    "    for i, (inputs, labels) in enumerate(data_loader):\n",
    "        # forward backward updates\n",
    "        if (i+1)%5 ==0:\n",
    "            print(f\"epoch {epoch+1}/{num_epoch}: step {i+1}/{n_iterations}, inputs {inputs.shape}\")\n"
   ]
  },
  {
   "cell_type": "markdown",
   "metadata": {},
   "source": [
    "### Data Transforms"
   ]
  },
  {
   "cell_type": "code",
   "execution_count": 21,
   "metadata": {},
   "outputs": [
    {
     "name": "stdout",
     "output_type": "stream",
     "text": [
      "tensor([1.4230e+01, 1.7100e+00, 2.4300e+00, 1.5600e+01, 1.2700e+02, 2.8000e+00,\n",
      "        3.0600e+00, 2.8000e-01, 2.2900e+00, 5.6400e+00, 1.0400e+00, 3.9200e+00,\n",
      "        1.0650e+03])\n",
      "<class 'torch.Tensor'> <class 'torch.Tensor'>\n",
      "tensor([2.8460e+01, 3.4200e+00, 4.8600e+00, 3.1200e+01, 2.5400e+02, 5.6000e+00,\n",
      "        6.1200e+00, 5.6000e-01, 4.5800e+00, 1.1280e+01, 2.0800e+00, 7.8400e+00,\n",
      "        2.1300e+03])\n",
      "<class 'torch.Tensor'> <class 'torch.Tensor'>\n"
     ]
    }
   ],
   "source": [
    "\n",
    "# torchvision.datasets.MNIST()\n",
    "# fashion-mnist, cifar, coco\n",
    "\n",
    "class WineDataset(Dataset):\n",
    "    def __init__(self, transform = None):\n",
    "        #data loading\n",
    "        xy = np.loadtxt(\"../dataset_pytorch/wine.csv\", delimiter = \",\", dtype = np.float32, skiprows = 1)\n",
    "        self.n_samples = xy.shape[0]\n",
    "        self.x = xy[:, 1:]\n",
    "        self.y = xy[:, [0]]\n",
    "        \n",
    "        self.transform = transform\n",
    "\n",
    "    def __getitem__(self, index):\n",
    "        sample = self.x[index], self.y[index]\n",
    "\n",
    "        if self.transform :\n",
    "            sample = self.transform(sample)\n",
    "        #dataset[0]\n",
    "        return sample\n",
    "\n",
    "\n",
    "    def __len__(self):\n",
    "        return self.n_samples\n",
    "\n",
    "class ToTensor():\n",
    "    def __call__(self, sample):\n",
    "        inputs, targets = sample\n",
    "        return tr.from_numpy(inputs), tr.from_numpy(targets)\n",
    "\n",
    "class MulTransform:\n",
    "    def __init__(self, factor):\n",
    "        self.factor = factor\n",
    "    \n",
    "    def __call__(self, sample):\n",
    "        inputs, targets = sample\n",
    "        inputs *= self.factor\n",
    "        return inputs, targets\n",
    "\n",
    "dataset = WineDataset(transform = ToTensor())\n",
    "first_data = dataset[0]\n",
    "f, l = first_data\n",
    "print(f)\n",
    "print(type(f), type(l))\n",
    "\n",
    "\n",
    "composed = torchvision.transforms.Compose([ToTensor(), MulTransform(2)])\n",
    "dataset = WineDataset(transform = composed)\n",
    "first_data = dataset[0]\n",
    "f, l = first_data\n",
    "print(f)\n",
    "print(type(f), type(l))\n"
   ]
  },
  {
   "cell_type": "code",
   "execution_count": null,
   "metadata": {},
   "outputs": [],
   "source": []
  }
 ],
 "metadata": {
  "kernelspec": {
   "display_name": "Python 3.9.13 ('pytorch_iNile')",
   "language": "python",
   "name": "python3"
  },
  "language_info": {
   "codemirror_mode": {
    "name": "ipython",
    "version": 3
   },
   "file_extension": ".py",
   "mimetype": "text/x-python",
   "name": "python",
   "nbconvert_exporter": "python",
   "pygments_lexer": "ipython3",
   "version": "3.9.13"
  },
  "orig_nbformat": 4,
  "vscode": {
   "interpreter": {
    "hash": "cf864c1017727d6efd3f29e3762eb025c078e9c82601d23e565d91194b023d11"
   }
  }
 },
 "nbformat": 4,
 "nbformat_minor": 2
}
