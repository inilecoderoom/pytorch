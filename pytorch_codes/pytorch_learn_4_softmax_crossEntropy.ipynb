{
 "cells": [
  {
   "cell_type": "markdown",
   "metadata": {},
   "source": [
    "# Softmax and Cross-Entropy"
   ]
  },
  {
   "cell_type": "code",
   "execution_count": 1,
   "metadata": {},
   "outputs": [],
   "source": [
    "import numpy as np\n",
    "import torch as tr\n",
    "import torch.nn as nn"
   ]
  },
  {
   "cell_type": "code",
   "execution_count": 2,
   "metadata": {},
   "outputs": [
    {
     "name": "stdout",
     "output_type": "stream",
     "text": [
      "softmax numpy : [0.65900114 0.24243297 0.09856589]\n"
     ]
    }
   ],
   "source": [
    "def softmax(x):\n",
    "    return np.exp(x)/np.sum(np.exp(x), axis = 0)\n",
    "\n",
    "x = np.array([2.0,1.0,0.1])\n",
    "outputs = softmax(x)\n",
    "print('softmax numpy :', outputs)"
   ]
  },
  {
   "cell_type": "code",
   "execution_count": 3,
   "metadata": {},
   "outputs": [
    {
     "name": "stdout",
     "output_type": "stream",
     "text": [
      "tensor([0.6590, 0.2424, 0.0986])\n"
     ]
    }
   ],
   "source": [
    "x = tr.tensor([2.0,1.0,0.1])\n",
    "outputs = tr.softmax(x, dim = 0)\n",
    "print(outputs)"
   ]
  },
  {
   "cell_type": "code",
   "execution_count": 4,
   "metadata": {},
   "outputs": [
    {
     "name": "stdout",
     "output_type": "stream",
     "text": [
      "0.35667494393873245\n",
      "2.3025850929940455\n"
     ]
    }
   ],
   "source": [
    "# manual implementatioin of the cross_Entropy formula\n",
    "\n",
    "def cross_Entropy(y_actual, y_pred):\n",
    "    return -np.sum(y_actual*np.log(y_pred))\n",
    "\n",
    "# y_actual must be hot encoded\n",
    "y = np.array([1,0,0])\n",
    "\n",
    "y_predicted_good = np.array([0.7,0.1,0.2])\n",
    "y_predicted_bad = np.array([0.1,0.3,0.6])\n",
    "\n",
    "# less loss means good prediction\n",
    "loss_good  = cross_Entropy(y, y_predicted_good)\n",
    "loss_bad = cross_Entropy(y, y_predicted_bad)\n",
    "print(loss_good)\n",
    "print(loss_bad)\n"
   ]
  },
  {
   "cell_type": "code",
   "execution_count": 5,
   "metadata": {},
   "outputs": [
    {
     "name": "stdout",
     "output_type": "stream",
     "text": [
      "0.7790890336036682 1.196307897567749\n",
      "tensor([2, 0, 1]) tensor([1, 2, 2])\n"
     ]
    }
   ],
   "source": [
    "# cross_entropy using pytorch\n",
    "\n",
    "loss = nn.CrossEntropyLoss()\n",
    "\n",
    "# y = tr.tensor([0])\n",
    "# # n_samples X n_classes = 1 X 3\n",
    "# y_predicted_good = tr.tensor([[0.7,0.1,0.2]])\n",
    "# y_predicted_bad = tr.tensor([[0.1,0.3,0.6]])\n",
    "\n",
    "y = tr.tensor([2,0,1])\n",
    "# n_samples X n_classes = 3 X 3\n",
    "y_predicted_good = tr.tensor([[0.3,0.1,0.7], [0.6,0.2,0.2], [0.1,0.8,0.1]])\n",
    "y_predicted_bad = tr.tensor([[0.1,0.5,0.4], [0.1,0.1,0.8], [0.1,0.3,0.6]])\n",
    "\n",
    "loss_g = loss(y_predicted_good, y)\n",
    "loss_b = loss(y_predicted_bad, y)\n",
    "\n",
    "print(loss_g.item(), loss_b.item())\n",
    "\n",
    "_, predictiion_g  = tr.max(y_predicted_good, 1)\n",
    "_, predictiion_b = tr.max(y_predicted_bad, 1)\n",
    "\n",
    "print(predictiion_g, predictiion_b)"
   ]
  },
  {
   "cell_type": "code",
   "execution_count": 6,
   "metadata": {},
   "outputs": [],
   "source": [
    "# nn.CrossEntropyLoss = nn.LogSoftmax + nn.NLLLoss (negative log likelihood loss)\n",
    "# so no need of sofmax in last layer of neural network\n",
    "# Y hax class labels without  one-hot encoding\n",
    "# Y prediction has raw scores(logits), no sofmax\n",
    "\n",
    "class NeuralNet_crossEntropyLoss(nn.Module):\n",
    "    def __init__(self, input_size, hidden_size, num_classes):\n",
    "        super(NeuralNet_crossEntropyLoss, self).__init__()\n",
    "        self.linear1 = nn.Linear(input_size, hidden_size)\n",
    "        self.relu = nn.ReLU()\n",
    "        self.linear2 = nn.Linear(hidden_size, num_classes)\n",
    "\n",
    "    def forward(self, x):\n",
    "        out = self.linear1(x)\n",
    "        out = self.relu(out)\n",
    "        out = self.linear2(out)\n",
    "        # no sofmax in last layer of neural network\n",
    "        return out\n",
    "\n",
    "\n",
    "model = NeuralNet_crossEntropyLoss(input_size = 28*28, hidden_size = 5, num_classes = 3)\n",
    "criterion  =nn.CrossEntropyLoss() # applies softmax\n",
    "\n"
   ]
  },
  {
   "cell_type": "code",
   "execution_count": 7,
   "metadata": {},
   "outputs": [],
   "source": [
    "# nn.BCELoss = binary cross entropy loss\n",
    "# so need of sigmoid in last layer of neural network\n",
    "\n",
    "# Y hax class labels without  one-hot encoding\n",
    "# Y prediction has raw scores(logits), no sofmax\n",
    "\n",
    "class NeuralNet_crossEntropyLoss(nn.Module):\n",
    "    def __init__(self, input_size, hidden_size):\n",
    "        super(NeuralNet_crossEntropyLoss, self).__init__()\n",
    "        self.linear1 = nn.Linear(input_size, hidden_size)\n",
    "        self.relu = nn.ReLU()\n",
    "        self.linear2 = nn.Linear(hidden_size, 1) # num_classes is always 1\n",
    "\n",
    "    def forward(self, x):\n",
    "        out = self.linear1(x)\n",
    "        out = self.relu(out)\n",
    "        out = self.linear2(out)\n",
    "        # need sigmoid in last layer of neural network\n",
    "        y_pred = tr.sigmoid(out)\n",
    "\n",
    "        return y_pred\n",
    "\n",
    "\n",
    "model = NeuralNet_crossEntropyLoss(input_size = 28*28, hidden_size = 5)\n",
    "criterion  =nn.BCELoss() \n"
   ]
  },
  {
   "cell_type": "code",
   "execution_count": null,
   "metadata": {},
   "outputs": [],
   "source": []
  }
 ],
 "metadata": {
  "kernelspec": {
   "display_name": "Python 3.9.12 ('iNile')",
   "language": "python",
   "name": "python3"
  },
  "language_info": {
   "codemirror_mode": {
    "name": "ipython",
    "version": 3
   },
   "file_extension": ".py",
   "mimetype": "text/x-python",
   "name": "python",
   "nbconvert_exporter": "python",
   "pygments_lexer": "ipython3",
   "version": "3.9.12"
  },
  "orig_nbformat": 4,
  "vscode": {
   "interpreter": {
    "hash": "35c5b4e930fdcb47ac81caa69f444b3cabeb1c3585cb7f94cf2c3a5cee17fbe3"
   }
  }
 },
 "nbformat": 4,
 "nbformat_minor": 2
}
