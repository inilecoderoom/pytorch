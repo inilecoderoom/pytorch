{
 "cells": [
  {
   "cell_type": "markdown",
   "metadata": {},
   "source": [
    "## Save and Load model"
   ]
  },
  {
   "cell_type": "markdown",
   "metadata": {},
   "source": [
    "[SOURCE] = https://www.youtube.com/watch?v=c36lUUr864M"
   ]
  },
  {
   "cell_type": "code",
   "execution_count": 1,
   "metadata": {},
   "outputs": [],
   "source": [
    "import torch as tr\n",
    "import torch.nn as nn"
   ]
  },
  {
   "cell_type": "code",
   "execution_count": null,
   "metadata": {},
   "outputs": [],
   "source": [
    "# complete model\n",
    "# tr.save(model, PATH) \n",
    "\n",
    "# model class must be defined in somewhere\n",
    "# model = tr.load(PATH)\n",
    "# model.eval()\n",
    "\n",
    "### STATE DICT ### preferred way\n",
    "# tr.save(model.state_dict(), PATH)\n",
    "\n",
    "# model must be created again with parameters\n",
    "# model = Model(*args, **kwargs)\n",
    "# model.load_state_dict(tr.load(PATH))\n",
    "# model.eval()\n"
   ]
  },
  {
   "cell_type": "code",
   "execution_count": 3,
   "metadata": {},
   "outputs": [],
   "source": [
    "class Model(nn.Module):\n",
    "    def __init__(self, n_input_featrues):\n",
    "        super(Model, self).__init__()\n",
    "        self.linear = nn.Linear(n_input_featrues, 1)\n",
    "\n",
    "    def forward(self, x):\n",
    "        y_pred = tr.sigmoid(self.linear(x))\n",
    "        return y_pred\n",
    "\n",
    "model = Model(n_input_featrues=6)\n",
    "\n",
    "# train the model \n"
   ]
  },
  {
   "cell_type": "code",
   "execution_count": 4,
   "metadata": {},
   "outputs": [],
   "source": [
    "# lesy method to save the model\n",
    "FILE = \"./pytorch_models/model.pth\"\n",
    "tr.save(model, FILE)"
   ]
  },
  {
   "cell_type": "code",
   "execution_count": 6,
   "metadata": {},
   "outputs": [
    {
     "name": "stdout",
     "output_type": "stream",
     "text": [
      "Parameter containing:\n",
      "tensor([[ 0.2395,  0.2029,  0.1473, -0.0193,  0.0214,  0.0827]],\n",
      "       requires_grad=True)\n",
      "Parameter containing:\n",
      "tensor([0.0392], requires_grad=True)\n"
     ]
    }
   ],
   "source": [
    "loaded_Model = tr.load(FILE)\n",
    "loaded_Model.eval()\n",
    "\n",
    "for params in loaded_Model.parameters():\n",
    "    print(params)"
   ]
  },
  {
   "cell_type": "code",
   "execution_count": 7,
   "metadata": {},
   "outputs": [],
   "source": [
    "# preferred way to save and load model\n",
    "FILE1 = \"./pytorch_models/model_state_dict.pth\"\n",
    "\n",
    "tr.save(model.state_dict(), FILE1)"
   ]
  },
  {
   "cell_type": "code",
   "execution_count": 8,
   "metadata": {},
   "outputs": [
    {
     "name": "stdout",
     "output_type": "stream",
     "text": [
      "Parameter containing:\n",
      "tensor([[ 0.2395,  0.2029,  0.1473, -0.0193,  0.0214,  0.0827]],\n",
      "       requires_grad=True)\n",
      "Parameter containing:\n",
      "tensor([0.0392], requires_grad=True)\n"
     ]
    }
   ],
   "source": [
    "loaded_sd_Model = Model(n_input_featrues=6)\n",
    "loaded_sd_Model.load_state_dict(tr.load(FILE1))\n",
    "loaded_sd_Model.eval()\n",
    "\n",
    "for params in loaded_sd_Model.parameters():\n",
    "    print(params)"
   ]
  },
  {
   "cell_type": "code",
   "execution_count": 9,
   "metadata": {},
   "outputs": [
    {
     "name": "stdout",
     "output_type": "stream",
     "text": [
      "OrderedDict([('linear.weight', tensor([[ 0.2395,  0.2029,  0.1473, -0.0193,  0.0214,  0.0827]])), ('linear.bias', tensor([0.0392]))])\n"
     ]
    }
   ],
   "source": [
    "print(model.state_dict())"
   ]
  },
  {
   "cell_type": "code",
   "execution_count": 10,
   "metadata": {},
   "outputs": [
    {
     "name": "stdout",
     "output_type": "stream",
     "text": [
      "{'state': {}, 'param_groups': [{'lr': 0.01, 'momentum': 0, 'dampening': 0, 'weight_decay': 0, 'nesterov': False, 'maximize': False, 'foreach': None, 'params': [0, 1]}]}\n"
     ]
    }
   ],
   "source": [
    "lr = 0.01\n",
    "optim = tr.optim.SGD(model.parameters(), lr = lr)\n",
    "print(optim.state_dict())"
   ]
  },
  {
   "cell_type": "code",
   "execution_count": 11,
   "metadata": {},
   "outputs": [],
   "source": [
    "checkpoint = {\n",
    "    \"epoch\" : 90,\n",
    "    \"model_state\" : model.state_dict(),\n",
    "    \"optim_state\" : optim.state_dict(),\n",
    "}\n",
    "\n",
    "tr.save(checkpoint, \"./pytorch_models/chkpt.pth\")"
   ]
  },
  {
   "cell_type": "code",
   "execution_count": 12,
   "metadata": {},
   "outputs": [
    {
     "name": "stdout",
     "output_type": "stream",
     "text": [
      "{'state': {}, 'param_groups': [{'lr': 0.01, 'momentum': 0, 'dampening': 0, 'weight_decay': 0, 'nesterov': False, 'maximize': False, 'foreach': None, 'params': [0, 1]}]}\n"
     ]
    }
   ],
   "source": [
    "loaded_checkpoint = tr.load(\"./pytorch_models/chkpt.pth\")\n",
    "epoch = loaded_checkpoint[\"epoch\"]\n",
    "\n",
    "model = Model(n_input_featrues=6)\n",
    "optimizer = tr.optim.SGD(model.parameters(),lr = 0)\n",
    "\n",
    "model.load_state_dict(checkpoint[\"model_state\"])\n",
    "optimizer.load_state_dict(checkpoint[\"optim_state\"])\n",
    "\n",
    "print(optimizer.state_dict())\n"
   ]
  },
  {
   "cell_type": "code",
   "execution_count": null,
   "metadata": {},
   "outputs": [],
   "source": [
    "# ############---SAVE ON GPU AND LOAD ON CPU---#############\n",
    "\n",
    "# device = tr.device(\"cuda\")\n",
    "# model.to(device)\n",
    "# tr.save(model.state_dict(), PATH)\n",
    "\n",
    "# device = tr.device(\"cpu\")\n",
    "# model.Model(*args, **kwargs)\n",
    "# model.load_state_dict(tr.load(PATH, map_location=device))\n",
    "\n"
   ]
  },
  {
   "cell_type": "code",
   "execution_count": null,
   "metadata": {},
   "outputs": [],
   "source": [
    "# ############---SAVE ON GPU AND LOAD ON GPU---#############\n",
    "\n",
    "# device = tr.device(\"cuda\")\n",
    "# model.to(device)\n",
    "# tr.save(model.state_dict(), PATH)\n",
    "\n",
    "# model.Model(*args, **kwargs)\n",
    "# model.load_state_dict(tr.load(PATH))\n",
    "# model.to(device)\n"
   ]
  },
  {
   "cell_type": "code",
   "execution_count": null,
   "metadata": {},
   "outputs": [],
   "source": [
    "# ############---SAVE ON CPU AND LOAD ON GPU---#############\n",
    "\n",
    "# tr.save(model.state_dict(), PATH)\n",
    "\n",
    "# device = tr.device(\"cuda\")\n",
    "\n",
    "# model.Model(*args, **kwargs)\n",
    "# model.load_state_dict(tr.load(PATH,  map_location=\"cuda:0\"))\n",
    "# model.to(device)\n"
   ]
  }
 ],
 "metadata": {
  "kernelspec": {
   "display_name": "Python 3.9.12 ('iNile')",
   "language": "python",
   "name": "python3"
  },
  "language_info": {
   "codemirror_mode": {
    "name": "ipython",
    "version": 3
   },
   "file_extension": ".py",
   "mimetype": "text/x-python",
   "name": "python",
   "nbconvert_exporter": "python",
   "pygments_lexer": "ipython3",
   "version": "3.9.12"
  },
  "orig_nbformat": 4,
  "vscode": {
   "interpreter": {
    "hash": "35c5b4e930fdcb47ac81caa69f444b3cabeb1c3585cb7f94cf2c3a5cee17fbe3"
   }
  }
 },
 "nbformat": 4,
 "nbformat_minor": 2
}
