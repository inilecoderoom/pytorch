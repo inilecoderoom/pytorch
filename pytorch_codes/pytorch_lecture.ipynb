{
 "cells": [
  {
   "cell_type": "markdown",
   "id": "018848b3",
   "metadata": {},
   "source": [
    "## PYTORCH\n",
    "### Dated - 12/10/2022"
   ]
  },
  {
   "cell_type": "code",
   "execution_count": 1,
   "id": "5f8a23f3",
   "metadata": {},
   "outputs": [],
   "source": [
    "import torch as tr"
   ]
  },
  {
   "cell_type": "code",
   "execution_count": 2,
   "id": "35c2e908",
   "metadata": {},
   "outputs": [
    {
     "data": {
      "text/plain": [
       "'1.12.1'"
      ]
     },
     "execution_count": 2,
     "metadata": {},
     "output_type": "execute_result"
    }
   ],
   "source": [
    "tr.__version__"
   ]
  },
  {
   "cell_type": "code",
   "execution_count": 6,
   "id": "6f73fda6",
   "metadata": {},
   "outputs": [
    {
     "name": "stdout",
     "output_type": "stream",
     "text": [
      "torch.float32\n"
     ]
    }
   ],
   "source": [
    "x = tr.ones(2,2)\n",
    "print(x.dtype)"
   ]
  },
  {
   "cell_type": "code",
   "execution_count": 7,
   "id": "27ce21be",
   "metadata": {},
   "outputs": [
    {
     "name": "stdout",
     "output_type": "stream",
     "text": [
      "torch.float16\n"
     ]
    }
   ],
   "source": [
    "y = tr.ones(2,2, dtype= tr.float16)\n",
    "print(y.dtype)"
   ]
  },
  {
   "cell_type": "code",
   "execution_count": 8,
   "id": "2c1661a1",
   "metadata": {},
   "outputs": [
    {
     "name": "stdout",
     "output_type": "stream",
     "text": [
      "tensor([2.5000, 0.1000, 5.0100])\n"
     ]
    }
   ],
   "source": [
    "a = tr.tensor([2.5, 0.1,5.01])\n",
    "print(a)"
   ]
  },
  {
   "cell_type": "code",
   "execution_count": 9,
   "id": "c657dd61",
   "metadata": {},
   "outputs": [
    {
     "name": "stdout",
     "output_type": "stream",
     "text": [
      "tensor([[1.0659, 0.6288],\n",
      "        [0.8162, 0.9959]])\n"
     ]
    }
   ],
   "source": [
    "s = tr.rand(2,2)\n",
    "t = tr.rand(2,2)\n",
    "d = s+t\n",
    "print(d)"
   ]
  },
  {
   "cell_type": "code",
   "execution_count": 10,
   "id": "369e12ab",
   "metadata": {},
   "outputs": [
    {
     "name": "stdout",
     "output_type": "stream",
     "text": [
      "tensor([[1.0659, 0.6288],\n",
      "        [0.8162, 0.9959]])\n"
     ]
    }
   ],
   "source": [
    "t.add_(s)\n",
    "print(t)"
   ]
  },
  {
   "cell_type": "code",
   "execution_count": 11,
   "id": "45aa8c9e",
   "metadata": {},
   "outputs": [
    {
     "name": "stdout",
     "output_type": "stream",
     "text": [
      "tensor([[-0.7945, -0.3644],\n",
      "        [-0.7561, -0.7239]])\n"
     ]
    }
   ],
   "source": [
    "d = s-t\n",
    "print(d)"
   ]
  },
  {
   "cell_type": "code",
   "execution_count": 12,
   "id": "4c065c93",
   "metadata": {},
   "outputs": [
    {
     "name": "stdout",
     "output_type": "stream",
     "text": [
      "tensor([[-0.7945, -0.3644],\n",
      "        [-0.7561, -0.7239]])\n"
     ]
    }
   ],
   "source": [
    "d= tr.sub(s,t)\n",
    "print(d)"
   ]
  },
  {
   "cell_type": "code",
   "execution_count": 13,
   "id": "226f9d9d",
   "metadata": {},
   "outputs": [
    {
     "name": "stdout",
     "output_type": "stream",
     "text": [
      "tensor([[0.2893, 0.1663],\n",
      "        [0.0490, 0.2708]])\n"
     ]
    }
   ],
   "source": [
    "d = tr.mul(s,t)\n",
    "print(d)"
   ]
  },
  {
   "cell_type": "code",
   "execution_count": 14,
   "id": "8350cf0d",
   "metadata": {},
   "outputs": [
    {
     "name": "stdout",
     "output_type": "stream",
     "text": [
      "tensor([[0.2893, 0.1663],\n",
      "        [0.0490, 0.2708]])\n"
     ]
    }
   ],
   "source": [
    "d = s*t\n",
    "print(d)"
   ]
  },
  {
   "cell_type": "code",
   "execution_count": 15,
   "id": "39de3bf6",
   "metadata": {},
   "outputs": [
    {
     "name": "stdout",
     "output_type": "stream",
     "text": [
      "tensor([[0.2546, 0.4205],\n",
      "        [0.0736, 0.2731]])\n"
     ]
    }
   ],
   "source": [
    "d = s/t\n",
    "print(d)"
   ]
  },
  {
   "cell_type": "code",
   "execution_count": 16,
   "id": "cc1a7f76",
   "metadata": {},
   "outputs": [
    {
     "name": "stdout",
     "output_type": "stream",
     "text": [
      "tensor([[0.2546, 0.4205],\n",
      "        [0.0736, 0.2731]])\n"
     ]
    }
   ],
   "source": [
    "d = tr.div(s,t)\n",
    "print(d)"
   ]
  },
  {
   "cell_type": "code",
   "execution_count": 17,
   "id": "cff29a4b",
   "metadata": {},
   "outputs": [
    {
     "name": "stdout",
     "output_type": "stream",
     "text": [
      "tensor([[0.0900, 0.0349, 0.7377],\n",
      "        [0.7825, 0.9062, 0.5222],\n",
      "        [0.2162, 0.4722, 0.7915],\n",
      "        [0.3781, 0.7820, 0.7955],\n",
      "        [0.7181, 0.7108, 0.5080]])\n"
     ]
    }
   ],
   "source": [
    "h = tr.rand(5,3)\n",
    "print(h)"
   ]
  },
  {
   "cell_type": "code",
   "execution_count": 18,
   "id": "fee3aef9",
   "metadata": {},
   "outputs": [
    {
     "name": "stdout",
     "output_type": "stream",
     "text": [
      "tensor([0.0900, 0.7825, 0.2162, 0.3781, 0.7181])\n"
     ]
    }
   ],
   "source": [
    "print(h[:, 0])"
   ]
  },
  {
   "cell_type": "code",
   "execution_count": 19,
   "id": "eedde173",
   "metadata": {},
   "outputs": [
    {
     "name": "stdout",
     "output_type": "stream",
     "text": [
      "tensor([0.7825, 0.9062, 0.5222])\n"
     ]
    }
   ],
   "source": [
    "print(h[1,:])"
   ]
  },
  {
   "cell_type": "code",
   "execution_count": 20,
   "id": "18aafed3",
   "metadata": {},
   "outputs": [
    {
     "name": "stdout",
     "output_type": "stream",
     "text": [
      "0.9061926007270813\n"
     ]
    }
   ],
   "source": [
    "print(h[1,1].item())"
   ]
  },
  {
   "cell_type": "code",
   "execution_count": 21,
   "id": "6af04117",
   "metadata": {},
   "outputs": [
    {
     "name": "stdout",
     "output_type": "stream",
     "text": [
      "tensor([[0.0935, 0.4352, 0.5204, 0.8644],\n",
      "        [0.1696, 0.6298, 0.0659, 0.5153],\n",
      "        [0.5292, 0.9030, 0.1862, 0.2587],\n",
      "        [0.4011, 0.7664, 0.1121, 0.0519]])\n"
     ]
    }
   ],
   "source": [
    "b = tr.rand(4,4)\n",
    "print(b)"
   ]
  },
  {
   "cell_type": "code",
   "execution_count": 22,
   "id": "8c410227",
   "metadata": {},
   "outputs": [
    {
     "name": "stdout",
     "output_type": "stream",
     "text": [
      "tensor([0.0935, 0.4352, 0.5204, 0.8644, 0.1696, 0.6298, 0.0659, 0.5153, 0.5292,\n",
      "        0.9030, 0.1862, 0.2587, 0.4011, 0.7664, 0.1121, 0.0519])\n"
     ]
    }
   ],
   "source": [
    "i  =b.view(16)\n",
    "print(i)"
   ]
  },
  {
   "cell_type": "code",
   "execution_count": 23,
   "id": "79a4add8",
   "metadata": {},
   "outputs": [
    {
     "name": "stdout",
     "output_type": "stream",
     "text": [
      "tensor([[0.0935, 0.4352, 0.5204, 0.8644, 0.1696, 0.6298, 0.0659, 0.5153],\n",
      "        [0.5292, 0.9030, 0.1862, 0.2587, 0.4011, 0.7664, 0.1121, 0.0519]])\n"
     ]
    }
   ],
   "source": [
    "i = b.view(-1, 8)\n",
    "print(i)"
   ]
  },
  {
   "cell_type": "code",
   "execution_count": 24,
   "id": "987f2b34",
   "metadata": {},
   "outputs": [],
   "source": [
    "import numpy as np"
   ]
  },
  {
   "cell_type": "code",
   "execution_count": 25,
   "id": "2f48975c",
   "metadata": {},
   "outputs": [
    {
     "name": "stdout",
     "output_type": "stream",
     "text": [
      "tensor([1., 1., 1., 1., 1.])\n"
     ]
    }
   ],
   "source": [
    "a = tr.ones(5)\n",
    "print(a)"
   ]
  },
  {
   "cell_type": "code",
   "execution_count": 26,
   "id": "5bff4cb9",
   "metadata": {},
   "outputs": [],
   "source": [
    "b = a.numpy()"
   ]
  },
  {
   "cell_type": "code",
   "execution_count": 27,
   "id": "39ffe369",
   "metadata": {},
   "outputs": [
    {
     "name": "stdout",
     "output_type": "stream",
     "text": [
      "<class 'numpy.ndarray'>\n"
     ]
    }
   ],
   "source": [
    "print(type(b))"
   ]
  },
  {
   "cell_type": "code",
   "execution_count": 28,
   "id": "225f2983",
   "metadata": {},
   "outputs": [
    {
     "name": "stdout",
     "output_type": "stream",
     "text": [
      "<class 'torch.Tensor'>\n"
     ]
    }
   ],
   "source": [
    "print(type(a))"
   ]
  },
  {
   "cell_type": "code",
   "execution_count": 29,
   "id": "adf2b87d",
   "metadata": {},
   "outputs": [
    {
     "name": "stdout",
     "output_type": "stream",
     "text": [
      "tensor([2., 2., 2., 2., 2.])\n",
      "[2. 2. 2. 2. 2.]\n"
     ]
    }
   ],
   "source": [
    "a.add_(1)\n",
    "print(a)\n",
    "print(b)"
   ]
  },
  {
   "cell_type": "code",
   "execution_count": 30,
   "id": "a8c1b989",
   "metadata": {},
   "outputs": [
    {
     "name": "stdout",
     "output_type": "stream",
     "text": [
      "[1. 1. 1. 1. 1.]\n",
      "tensor([1., 1., 1., 1., 1.], dtype=torch.float64)\n"
     ]
    }
   ],
   "source": [
    "a = np.ones(5)\n",
    "print(a)\n",
    "b = tr.from_numpy(a)\n",
    "print(b)"
   ]
  },
  {
   "cell_type": "code",
   "execution_count": 31,
   "id": "d6ade9b1",
   "metadata": {},
   "outputs": [
    {
     "name": "stdout",
     "output_type": "stream",
     "text": [
      "[2. 2. 2. 2. 2.]\n",
      "tensor([2., 2., 2., 2., 2.], dtype=torch.float64)\n"
     ]
    }
   ],
   "source": [
    "a +=1\n",
    "print(a)\n",
    "print(b)"
   ]
  },
  {
   "cell_type": "code",
   "execution_count": 34,
   "id": "735887f5",
   "metadata": {},
   "outputs": [
    {
     "ename": "NameError",
     "evalue": "name 'z' is not defined",
     "output_type": "error",
     "traceback": [
      "\u001b[0;31m---------------------------------------------------------------------------\u001b[0m",
      "\u001b[0;31mNameError\u001b[0m                                 Traceback (most recent call last)",
      "Input \u001b[0;32mIn [34]\u001b[0m, in \u001b[0;36m<cell line: 9>\u001b[0;34m()\u001b[0m\n\u001b[1;32m      6\u001b[0m     z \u001b[38;5;241m=\u001b[39m x \u001b[38;5;241m+\u001b[39m y\n\u001b[1;32m      7\u001b[0m     z \u001b[38;5;241m=\u001b[39m z\u001b[38;5;241m.\u001b[39mto(\u001b[38;5;124m\"\u001b[39m\u001b[38;5;124mcpu\u001b[39m\u001b[38;5;124m\"\u001b[39m)\n\u001b[0;32m----> 9\u001b[0m \u001b[38;5;28mprint\u001b[39m(\u001b[43mz\u001b[49m)\n",
      "\u001b[0;31mNameError\u001b[0m: name 'z' is not defined"
     ]
    }
   ],
   "source": [
    "if tr.cuda.is_available():\n",
    "    device = tr.device('cuda')\n",
    "    x = tr.ones(5, device = device)\n",
    "    y = tr.ones(5)\n",
    "    y = y.to(device)\n",
    "    z = x + y\n",
    "    z = z.to(\"cpu\")\n",
    "    \n",
    "print(z)"
   ]
  },
  {
   "cell_type": "code",
   "execution_count": 33,
   "id": "3e9eec71",
   "metadata": {},
   "outputs": [],
   "source": [
    "# pip install cvlib"
   ]
  },
  {
   "cell_type": "code",
   "execution_count": 35,
   "id": "e306d830",
   "metadata": {},
   "outputs": [
    {
     "data": {
      "text/plain": [
       "False"
      ]
     },
     "execution_count": 35,
     "metadata": {},
     "output_type": "execute_result"
    }
   ],
   "source": [
    "tr.cuda.is_available()"
   ]
  },
  {
   "cell_type": "code",
   "execution_count": 36,
   "id": "42d920f1",
   "metadata": {},
   "outputs": [
    {
     "name": "stdout",
     "output_type": "stream",
     "text": [
      "tensor([1., 1., 1., 1., 1.], requires_grad=True)\n"
     ]
    }
   ],
   "source": [
    "x = tr.ones(5, requires_grad = True)\n",
    "print(x)"
   ]
  },
  {
   "cell_type": "code",
   "execution_count": 38,
   "id": "6f288332",
   "metadata": {},
   "outputs": [
    {
     "name": "stdout",
     "output_type": "stream",
     "text": [
      "y \n"
     ]
    }
   ],
   "source": [
    "a= 5\n",
    "b =5\n",
    "print(\"y \" if a ==b else \"n\")"
   ]
  }
 ],
 "metadata": {
  "kernelspec": {
   "display_name": "Python 3.9.12 ('iNile')",
   "language": "python",
   "name": "python3"
  },
  "language_info": {
   "codemirror_mode": {
    "name": "ipython",
    "version": 3
   },
   "file_extension": ".py",
   "mimetype": "text/x-python",
   "name": "python",
   "nbconvert_exporter": "python",
   "pygments_lexer": "ipython3",
   "version": "3.9.12"
  },
  "vscode": {
   "interpreter": {
    "hash": "35c5b4e930fdcb47ac81caa69f444b3cabeb1c3585cb7f94cf2c3a5cee17fbe3"
   }
  }
 },
 "nbformat": 4,
 "nbformat_minor": 5
}
