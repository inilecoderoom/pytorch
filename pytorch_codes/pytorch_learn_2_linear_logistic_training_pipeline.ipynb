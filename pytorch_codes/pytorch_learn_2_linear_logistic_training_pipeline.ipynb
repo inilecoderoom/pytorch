{
 "cells": [
  {
   "cell_type": "code",
   "execution_count": 2,
   "metadata": {},
   "outputs": [],
   "source": [
    "import numpy as np\n",
    "import pandas as pd\n",
    "\n",
    "import torch as tr\n",
    "import torch.nn as nn\n",
    "\n",
    "from sklearn import datasets\n",
    "import matplotlib.pyplot as plt\n",
    "\n"
   ]
  },
  {
   "cell_type": "markdown",
   "metadata": {},
   "source": [
    "### Gradient Descent using torch"
   ]
  },
  {
   "cell_type": "code",
   "execution_count": 3,
   "metadata": {},
   "outputs": [],
   "source": [
    "# 1. design our model (input, output size, forward pass)\n",
    "# 2. construct loss and optimizer\n",
    "# 3. training loop\n",
    "#       - forward pass: compute prediction\n",
    "#       - backward pass: gradient\n",
    "#       - update weights \n"
   ]
  },
  {
   "cell_type": "code",
   "execution_count": 4,
   "metadata": {},
   "outputs": [
    {
     "name": "stdout",
     "output_type": "stream",
     "text": [
      "Prediction before training : f(5) = 0.000\n",
      "epoch 1: w = 0.300, loss = 30.00000000\n",
      "epoch 11: w = 1.665, loss = 1.16278565\n",
      "epoch 21: w = 1.934, loss = 0.04506890\n",
      "epoch 31: w = 1.987, loss = 0.00174685\n",
      "epoch 41: w = 1.997, loss = 0.00006770\n",
      "epoch 51: w = 1.999, loss = 0.00000262\n",
      "epoch 61: w = 2.000, loss = 0.00000010\n",
      "epoch 71: w = 2.000, loss = 0.00000000\n",
      "epoch 81: w = 2.000, loss = 0.00000000\n",
      "epoch 91: w = 2.000, loss = 0.00000000\n",
      "Prediction after training : f(5) = 10.000\n"
     ]
    }
   ],
   "source": [
    "X = tr.tensor([1,2,3,4], dtype=tr.float32)\n",
    "Y = tr.tensor([2,4,6,8], dtype=tr.float32)\n",
    "\n",
    "w = tr.tensor(0.0, dtype = tr.float32, requires_grad= True)\n",
    "\n",
    "# model prediction\n",
    "def forward(x):\n",
    "    return w*x\n",
    "\n",
    "\n",
    "# # gradient\n",
    "# # MSE = 1/N *(w*x-y)**2\n",
    "# # dj/dw = 1/N 2x (w*x -y)\n",
    "# def gradient(x, y, y_predicted):\n",
    "#     return np.dot(2*x, y_predicted-y).mean()\n",
    "\n",
    "print(f\"Prediction before training : f(5) = {forward(5):.3f}\")\n",
    "\n",
    "learning_rate = 0.01\n",
    "n_iters = 100\n",
    "\n",
    "loss = nn.MSELoss()\n",
    "optimizer = tr.optim.SGD([w], lr = learning_rate)\n",
    "\n",
    "\n",
    "for epoch in range(n_iters):\n",
    "    # prediction = forward pass\n",
    "    y_pred = forward(X)\n",
    "    l = loss(Y, y_pred)\n",
    "\n",
    "    # gradient = backward pass\n",
    "    l.backward() # dl/dw\n",
    "\n",
    "    optimizer.step()\n",
    "    # with tr.no_grad():\n",
    "    #     w -= learning_rate * w.grad\n",
    "\n",
    "    # zero gradients\n",
    "    # w.grad.zero_()\n",
    "    optimizer.zero_grad()\n",
    "    \n",
    "    \n",
    "    if epoch %10 ==0:\n",
    "        print(f'epoch {epoch+1}: w = {w:.3f}, loss = {l:,.8f}')\n",
    "\n",
    "\n",
    "print(f\"Prediction after training : f(5) = {forward(5):.3f}\")\n",
    "\n"
   ]
  },
  {
   "cell_type": "code",
   "execution_count": 5,
   "metadata": {},
   "outputs": [
    {
     "name": "stdout",
     "output_type": "stream",
     "text": [
      "Prediction before training : f(5) = -5.259\n",
      "epoch 1: w = -0.415, loss = 75.00614929\n",
      "epoch 11: w = 1.570, loss = 1.94415760\n",
      "epoch 21: w = 1.890, loss = 0.05366173\n",
      "epoch 31: w = 1.943, loss = 0.00455436\n",
      "epoch 41: w = 1.952, loss = 0.00309959\n",
      "Prediction after training : f(5) = 9.906\n"
     ]
    }
   ],
   "source": [
    "X = tr.tensor([[1],[2],[3],[4]], dtype=tr.float32)\n",
    "Y = tr.tensor([[2],[4],[6],[8]], dtype=tr.float32)\n",
    "\n",
    "X_test = tr.tensor([5], dtype = tr.float32)\n",
    "\n",
    "n_samples, n_features = X.shape\n",
    "input_size = n_features\n",
    "output_size = n_features\n",
    "# dont need weights when implemented in nn module\n",
    "# w = tr.tensor(0.0, dtype = tr.float32, requires_grad= True)\n",
    "\n",
    "# model prediction\n",
    "\n",
    "# def forward(x):\n",
    "#     return w*x\n",
    "\n",
    "# creating custom Linear model in pytorch\n",
    "\n",
    "class LinearRegression(nn.Module):\n",
    "    def __init__(self, input_dim, output_dim):\n",
    "        super(LinearRegression, self).__init__()\n",
    "        self.lin = nn.Linear(input_dim, output_dim)\n",
    "\n",
    "    def forward(self, x):\n",
    "        return self.lin(x)\n",
    "\n",
    "# calling custom model here\n",
    "model = LinearRegression(input_size, output_size)\n",
    "\n",
    "# replacement with nn model\n",
    "# model = nn.Linear(input_size, output_size)\n",
    "\n",
    "\n",
    "# # gradient\n",
    "# # MSE = 1/N *(w*x-y)**2\n",
    "# # dj/dw = 1/N 2x (w*x -y)\n",
    "# def gradient(x, y, y_predicted):\n",
    "#     return np.dot(2*x, y_predicted-y).mean()\n",
    "\n",
    "print(f\"Prediction before training : f(5) = {model(X_test).item():.3f}\")\n",
    "\n",
    "learning_rate = 0.01\n",
    "n_iters = 50\n",
    "\n",
    "loss = nn.MSELoss()\n",
    "optimizer = tr.optim.SGD(model.parameters(), lr = learning_rate)\n",
    "\n",
    "\n",
    "for epoch in range(n_iters):\n",
    "    # prediction = forward pass\n",
    "    y_pred = model(X)\n",
    "    l = loss(Y, y_pred)\n",
    "\n",
    "    # gradient = backward pass\n",
    "    l.backward() # dl/dw\n",
    "\n",
    "    optimizer.step()\n",
    "    # with tr.no_grad():\n",
    "    #     w -= learning_rate * w.grad\n",
    "\n",
    "    # zero gradients\n",
    "    # w.grad.zero_()\n",
    "    optimizer.zero_grad()\n",
    "    \n",
    "    \n",
    "    if epoch %10 ==0:\n",
    "        [w, b] = model.parameters()\n",
    "        print(f'epoch {epoch+1}: w = {w[0][0].item():.3f}, loss = {l:,.8f}')\n",
    "\n",
    "\n",
    "print(f\"Prediction after training : f(5) = {model(X_test).item():.3f}\")\n",
    "\n"
   ]
  },
  {
   "cell_type": "markdown",
   "metadata": {},
   "source": [
    "# Linear Regression using pytorch"
   ]
  },
  {
   "cell_type": "code",
   "execution_count": 6,
   "metadata": {},
   "outputs": [
    {
     "name": "stdout",
     "output_type": "stream",
     "text": [
      "epoch 10: loss = 4,360.9785\n",
      "epoch 20: loss = 3,256.1672\n",
      "epoch 30: loss = 2,456.1372\n",
      "epoch 40: loss = 1,876.2242\n",
      "epoch 50: loss = 1,455.4745\n",
      "epoch 60: loss = 1,149.9404\n",
      "epoch 70: loss = 927.8964\n",
      "epoch 80: loss = 766.4099\n",
      "epoch 90: loss = 648.8864\n",
      "epoch 100: loss = 563.3046\n"
     ]
    }
   ],
   "source": [
    "# 0. prepare data\n",
    "X_numpy, y_numpy = datasets.make_regression(n_samples = 100, n_features = 1, noise = 20, random_state = 1)\n",
    "X = tr.from_numpy(X_numpy.astype(np.float32))\n",
    "y = tr.from_numpy(y_numpy.astype(np.float32))\n",
    "y = y.view(y.shape[0], 1)\n",
    "\n",
    "n_samples, n_features = X.shape\n",
    "\n",
    "# 1. model\n",
    "input_size = n_features\n",
    "output_size = 1\n",
    "\n",
    "model = nn.Linear(input_size, output_size)\n",
    "\n",
    "# 2. loss and optimizer\n",
    "learning_rate = 0.01\n",
    "criterion = nn.MSELoss()\n",
    "optimizer = tr.optim.SGD(model.parameters(), lr = learning_rate)\n",
    "\n",
    "# 3. training loop\n",
    "num_epoch = 100\n",
    "for epoch in range(num_epoch):\n",
    "    y_predicted = model(X)\n",
    "    loss = criterion(y_predicted, y)\n",
    "\n",
    "    # backward pass\n",
    "    loss.backward()\n",
    "\n",
    "    # update weights\n",
    "    optimizer.step()\n",
    "\n",
    "    optimizer.zero_grad()\n",
    "\n",
    "    if (epoch+1) %10 ==0:\n",
    "        print(f'epoch {epoch+1}: loss = {loss.item():,.4f}')\n",
    "\n",
    "\n",
    "\n",
    "# plot\n",
    "predicted = model(X).detach().numpy()"
   ]
  },
  {
   "cell_type": "code",
   "execution_count": 7,
   "metadata": {},
   "outputs": [
    {
     "data": {
      "image/png": "[encoded data removed]",
      "text/plain": [
       "<Figure size 640x480 with 1 Axes>"
      ]
     },
     "metadata": {},
     "output_type": "display_data"
    }
   ],
   "source": [
    "plt.plot(X_numpy, y_numpy, \"ro\")\n",
    "plt.plot(X_numpy, predicted, \"b\")\n",
    "plt.show()"
   ]
  },
  {
   "cell_type": "markdown",
   "metadata": {},
   "source": [
    "# Logistic Regression using pytorch"
   ]
  },
  {
   "cell_type": "code",
   "execution_count": 8,
   "metadata": {},
   "outputs": [],
   "source": [
    "from sklearn.preprocessing import StandardScaler\n",
    "from sklearn.model_selection import train_test_split\n"
   ]
  },
  {
   "cell_type": "code",
   "execution_count": 9,
   "metadata": {},
   "outputs": [
    {
     "name": "stdout",
     "output_type": "stream",
     "text": [
      "569 30\n"
     ]
    }
   ],
   "source": [
    "# 0. prepare data\n",
    "breast_cancer = datasets.load_breast_cancer()\n",
    "X,y = breast_cancer.data, breast_cancer.target\n",
    "\n",
    "n_samples, n_features = X.shape\n",
    "\n",
    "X_train, X_test, y_train, y_test = train_test_split(X,y,test_size = 0.2, random_state = 1234)\n",
    "\n",
    "# scale\n",
    "sc = StandardScaler()\n",
    "X_train = sc.fit_transform(X_train)\n",
    "X_test = sc.fit_transform(X_test)\n",
    "\n",
    "X_train = tr.from_numpy(X_train.astype(np.float32))\n",
    "X_test = tr.from_numpy(X_test.astype(np.float32))\n",
    "y_train = tr.from_numpy(y_train.astype(np.float32))\n",
    "y_test = tr.from_numpy(y_test.astype(np.float32))\n",
    "\n",
    "y_train = y_train.view(y_train.shape[0], 1)\n",
    "y_test = y_test.view(y_test.shape[0], 1)\n",
    "\n",
    "\n",
    "print(n_samples, n_features)"
   ]
  },
  {
   "cell_type": "code",
   "execution_count": 10,
   "metadata": {},
   "outputs": [
    {
     "name": "stdout",
     "output_type": "stream",
     "text": [
      "epoch 10: loss = 0.6281\n",
      "epoch 20: loss = 0.5244\n",
      "epoch 30: loss = 0.4562\n",
      "epoch 40: loss = 0.4077\n",
      "epoch 50: loss = 0.3713\n",
      "epoch 60: loss = 0.3428\n",
      "epoch 70: loss = 0.3197\n",
      "epoch 80: loss = 0.3006\n",
      "epoch 90: loss = 0.2844\n",
      "epoch 100: loss = 0.2704\n",
      "Accuracy = 0.8860\n"
     ]
    }
   ],
   "source": [
    "# 1. model\n",
    "class Model_LogisticRegression(nn.Module):\n",
    "    def __init__(self, n_input_features):\n",
    "        super(Model_LogisticRegression, self).__init__()\n",
    "        self.linear = nn.Linear(n_input_features, 1)\n",
    "\n",
    "    def forward(self, x):\n",
    "        y_predicted = tr.sigmoid(self.linear(x))\n",
    "        return y_predicted\n",
    "\n",
    "model = Model_LogisticRegression(n_features)\n",
    "\n",
    "# 2. loss and optimizer\n",
    "learning_rate = 0.01\n",
    "criterion = nn.BCELoss()\n",
    "optimizer = tr.optim.SGD(model.parameters(), lr = learning_rate)\n",
    "\n",
    "# 3. training loop\n",
    "num_epoch = 100\n",
    "for epoch in range(num_epoch):\n",
    "    y_predicted = model(X_train)\n",
    "    loss = criterion(y_predicted, y_train)\n",
    "\n",
    "    # backward pass\n",
    "    loss.backward()\n",
    "\n",
    "    # update weights\n",
    "    optimizer.step()\n",
    "\n",
    "    # zero gradients\n",
    "    optimizer.zero_grad()\n",
    "\n",
    "    if (epoch+1) %10 ==0:\n",
    "        print(f'epoch {epoch+1}: loss = {loss.item():,.4f}')\n",
    "\n",
    "with tr.no_grad():\n",
    "    y_predicted = model(X_test)\n",
    "    y_predicted_cls = y_predicted.round()\n",
    "    accuracy = y_predicted_cls.eq(y_test).sum() / float(y_test.shape[0])\n",
    "    print(f\"Accuracy = {accuracy:,.4f}\")\n",
    "\n",
    "# plot\n",
    "# predicted = model(X).detach().numpy()"
   ]
  },
  {
   "cell_type": "code",
   "execution_count": null,
   "metadata": {},
   "outputs": [],
   "source": []
  }
 ],
 "metadata": {
  "kernelspec": {
   "display_name": "Python 3.9.13 ('pytorch_iNile')",
   "language": "python",
   "name": "python3"
  },
  "language_info": {
   "codemirror_mode": {
    "name": "ipython",
    "version": 3
   },
   "file_extension": ".py",
   "mimetype": "text/x-python",
   "name": "python",
   "nbconvert_exporter": "python",
   "pygments_lexer": "ipython3",
   "version": "3.9.13"
  },
  "orig_nbformat": 4,
  "vscode": {
   "interpreter": {
    "hash": "cf864c1017727d6efd3f29e3762eb025c078e9c82601d23e565d91194b023d11"
   }
  }
 },
 "nbformat": 4,
 "nbformat_minor": 2
}
